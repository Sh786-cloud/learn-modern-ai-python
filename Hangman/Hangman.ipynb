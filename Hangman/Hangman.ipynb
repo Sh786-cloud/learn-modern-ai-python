{
  "nbformat": 4,
  "nbformat_minor": 0,
  "metadata": {
    "colab": {
      "provenance": []
    },
    "kernelspec": {
      "name": "python3",
      "display_name": "Python 3"
    },
    "language_info": {
      "name": "python"
    }
  },
  "cells": [
    {
      "cell_type": "markdown",
      "source": [
        "HANGMAN GAME (PYTHON)\n",
        "\n",
        "    It's a classic beginner level python project where a word is randomly chosen from a predefined list.The user guesses one letter at a time, if the guessed letter is in the word, its revealed in the correct position otherwise user loses a life.The game ends when the user correctly guesses all the letters or runs out of lives.\n",
        "\n",
        "    Here's an example:"
      ],
      "metadata": {
        "id": "EtJIC6jmEV4E"
      }
    },
    {
      "cell_type": "code",
      "source": [
        "import random\n",
        "import string\n",
        "# predefined list\n",
        "words = [\"python\", \"typescript\", \"hangman\", \"apple\", \"react\"]\n",
        "def get_valid_word(words):\n",
        "  word = random.choice(words)\n",
        "  return word.upper()\n",
        "\n",
        "def hangman():\n",
        "  word = get_valid_word(words)\n",
        "  word_letters = set(word)\n",
        "  alphabets = set(string.ascii_uppercase)\n",
        "  used_letters = set()\n",
        "  lives = 7\n",
        "\n",
        "  #getting user's input\n",
        "  while len(word_letters) > 0 and lives > 0 :\n",
        "    print(f\"You've {lives} lives left and you've used these letters: \",' '.join(used_letters))\n",
        "    word_list = [letter if letter in used_letters else '-' for letter in word]\n",
        "    #print(lives_visual_dict[lives])\n",
        "    print(\"Current word: \", ' '.join(word_list))\n",
        "    user_letter = input(\"Guess a word: \").upper()\n",
        "\n",
        "    if user_letter in alphabets - used_letters :\n",
        "      used_letters.add(user_letter)\n",
        "      if user_letter in word_letters :\n",
        "        word_letters.remove(user_letter)\n",
        "        print('')\n",
        "      else :\n",
        "        lives = lives - 1\n",
        "        print(f\"\\nYour letter {user_letter} is not in the word.\")\n",
        "    elif user_letter in used_letters :\n",
        "      print(\"\\nYou've already guessed this letter, guess another.\")\n",
        "    else :\n",
        "      print(\"\\nKindly enter a valid number.\")\n",
        "\n",
        "  if lives == 0 :\n",
        "    print(f\"Sorry, you died ! The word was {word}.\")\n",
        "  else :\n",
        "    print(f\"Congrats you've guessed the word {word}.\")\n",
        "\n",
        "hangman()"
      ],
      "metadata": {
        "id": "DxW5jNQGHDux",
        "colab": {
          "base_uri": "https://localhost:8080/"
        },
        "outputId": "ff68990d-b5e1-43fe-fcfd-53490839395c"
      },
      "execution_count": 2,
      "outputs": [
        {
          "output_type": "stream",
          "name": "stdout",
          "text": [
            "You've 7 lives left and you've used these letters:  \n",
            "Current word:  - - - - - -\n",
            "Guess a word: t\n",
            "\n",
            "You've 7 lives left and you've used these letters:  T\n",
            "Current word:  - - T - - -\n",
            "Guess a word: s\n",
            "\n",
            "Your letter S is not in the word.\n",
            "You've 6 lives left and you've used these letters:  T S\n",
            "Current word:  - - T - - -\n",
            "Guess a word: o\n",
            "\n",
            "You've 6 lives left and you've used these letters:  T O S\n",
            "Current word:  - - T - O -\n",
            "Guess a word: n\n",
            "\n",
            "You've 6 lives left and you've used these letters:  N T O S\n",
            "Current word:  - - T - O N\n",
            "Guess a word: w\n",
            "\n",
            "Your letter W is not in the word.\n",
            "You've 5 lives left and you've used these letters:  W N S T O\n",
            "Current word:  - - T - O N\n",
            "Guess a word: p\n",
            "\n",
            "You've 5 lives left and you've used these letters:  W N S P T O\n",
            "Current word:  P - T - O N\n",
            "Guess a word: h\n",
            "\n",
            "You've 5 lives left and you've used these letters:  W N S P H T O\n",
            "Current word:  P - T H O N\n",
            "Guess a word: t\n",
            "\n",
            "You've already guessed this letter, guess another.\n",
            "You've 5 lives left and you've used these letters:  W N S P H T O\n",
            "Current word:  P - T H O N\n",
            "Guess a word: y\n",
            "\n",
            "Congrats you've guessed the word PYTHON.\n"
          ]
        }
      ]
    }
  ]
}