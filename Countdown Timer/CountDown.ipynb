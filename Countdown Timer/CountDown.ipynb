{
  "nbformat": 4,
  "nbformat_minor": 0,
  "metadata": {
    "colab": {
      "provenance": []
    },
    "kernelspec": {
      "name": "python3",
      "display_name": "Python 3"
    },
    "language_info": {
      "name": "python"
    }
  },
  "cells": [
    {
      "cell_type": "markdown",
      "source": [
        "COUNTDOWN TIMER (PYTHON)\n",
        "\n",
        "    This is a beginner level program which counts down from a specified time (in minutes or seconds) to zero, updates the display every second and often performing an action at the end."
      ],
      "metadata": {
        "id": "T1_TFBAZqEEB"
      }
    },
    {
      "cell_type": "code",
      "source": [
        "import time\n",
        "from IPython.display import clear_output\n",
        "\n",
        "def countdown(t):\n",
        "\n",
        "  while t :\n",
        "    mins, secs = divmod(t, 60)\n",
        "    timer = '{:02d}:{:02d}'.format(mins, secs)\n",
        "    # clears the previous output- writing on that same line.\n",
        "    clear_output(wait=True)\n",
        "    print(timer)\n",
        "    time.sleep(1)\n",
        "    t -= 1\n",
        "\n",
        "  clear_output(wait=True)\n",
        "  print('Timer completed!')\n",
        "\n",
        "t = int(input('Enter time in seconds: '))\n",
        "countdown(t)"
      ],
      "metadata": {
        "colab": {
          "base_uri": "https://localhost:8080/"
        },
        "id": "QwMMUgETrXBi",
        "outputId": "6a036168-daab-4fd3-e558-059bed281439"
      },
      "execution_count": 11,
      "outputs": [
        {
          "output_type": "stream",
          "name": "stdout",
          "text": [
            "Timer completed!\n"
          ]
        }
      ]
    }
  ]
}