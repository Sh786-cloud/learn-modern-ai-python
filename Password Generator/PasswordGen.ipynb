{
  "nbformat": 4,
  "nbformat_minor": 0,
  "metadata": {
    "colab": {
      "provenance": []
    },
    "kernelspec": {
      "name": "python3",
      "display_name": "Python 3"
    },
    "language_info": {
      "name": "python"
    }
  },
  "cells": [
    {
      "cell_type": "markdown",
      "source": [
        "PASSWORD GENERATOR (PYTHON)\n",
        "\n",
        "     This is a simple program that generates desired numbers of strong, random password of desired length that combine letters, numbers and symbols.\n",
        "     Here's an example :"
      ],
      "metadata": {
        "id": "QurbVVji8Mrv"
      }
    },
    {
      "cell_type": "code",
      "source": [
        "import random\n",
        "\n",
        "print('Welcome To Password Generator')\n",
        "chars = 'abcdefghijklmnopqrstuvwxyzABCDEFGHIJKLMNOPQRSTUVWXYZ0123456789@#$%^&*?!'\n",
        "\n",
        "number = input('Amount of passwords you want to generate: ')\n",
        "number = int(number)\n",
        "length = input('Length of password you want to generate: ')\n",
        "length = int(length)\n",
        "\n",
        "print('\\nHere are your passwords')\n",
        "for pwd in range(number):\n",
        "  password = ''\n",
        "  for l in range(length):\n",
        "    password += random.choice(chars)\n",
        "  print(password)\n"
      ],
      "metadata": {
        "colab": {
          "base_uri": "https://localhost:8080/"
        },
        "id": "jLI5wKMX-Fhb",
        "outputId": "d975db86-b40c-4230-c751-a4afaf58b7e4"
      },
      "execution_count": 7,
      "outputs": [
        {
          "output_type": "stream",
          "name": "stdout",
          "text": [
            "Welcome To Password Generator\n",
            "Amount of passwords you want to generate: 4\n",
            "Length of password you want to generate: 6\n",
            "\n",
            "Here are your passwords\n",
            "EjTDRk\n",
            "kbkLyL\n",
            "a^TkFc\n",
            "9PbjXv\n"
          ]
        }
      ]
    }
  ]
}