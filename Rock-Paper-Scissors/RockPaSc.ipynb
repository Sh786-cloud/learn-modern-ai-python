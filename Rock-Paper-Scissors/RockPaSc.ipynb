{
  "nbformat": 4,
  "nbformat_minor": 0,
  "metadata": {
    "colab": {
      "provenance": []
    },
    "kernelspec": {
      "name": "python3",
      "display_name": "Python 3"
    },
    "language_info": {
      "name": "python"
    }
  },
  "cells": [
    {
      "cell_type": "markdown",
      "source": [
        "ROCK PAPER SCISSORS GAME (PYTHON)\n",
        "\n",
        "    This is a simple beginners friendly project where the user competes against the computer by choosing either \"rock\", \"paper\", or \"scissors.The game follows the rules that \"Rock beats Scissors\", \"Scissors beats Paper\" and \"Paper beats Rock\".\n",
        "    Here's an example:"
      ],
      "metadata": {
        "id": "YH0fe89csZqd"
      }
    },
    {
      "cell_type": "code",
      "source": [
        "import random\n",
        "\n",
        "def playGame ():\n",
        "  player = input(\"Choose a player: 'r' for rock, 'p' for paper and 's'  for scissors : \").lower()\n",
        "  opponent = random.choice(['r', 'p', 's']).lower()\n",
        "\n",
        "  if player == opponent :\n",
        "    print(\"Its a Tie !\")\n",
        "  elif is_win(player, opponent) :\n",
        "    print('You won !')\n",
        "  else :\n",
        "    print('You lost !')\n",
        "\n",
        "def is_win (player, opponent):\n",
        "  if player == 'r' and opponent == 's' or player == 's' and opponent == 'p' or player == 'p' and opponent == 'r' :\n",
        "    return True\n",
        "\n",
        "playGame()"
      ],
      "metadata": {
        "colab": {
          "base_uri": "https://localhost:8080/"
        },
        "id": "suItusNBtt9H",
        "outputId": "83025891-221d-48fe-868f-28ab2f4b22f9"
      },
      "execution_count": 36,
      "outputs": [
        {
          "output_type": "stream",
          "name": "stdout",
          "text": [
            "Choose a player: 'r' for rock, 'p' for paper and 's'  for scissors : s\n",
            "You won !\n"
          ]
        }
      ]
    }
  ]
}