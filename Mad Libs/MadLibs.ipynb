{
  "nbformat": 4,
  "nbformat_minor": 0,
  "metadata": {
    "colab": {
      "provenance": []
    },
    "kernelspec": {
      "name": "python3",
      "display_name": "Python 3"
    },
    "language_info": {
      "name": "python"
    }
  },
  "cells": [
    {
      "cell_type": "markdown",
      "source": [
        "Mad Libs\n",
        "\n",
        "   In Python mad libs refers to a simple word game where you create a story with blanks and user fills in those blanks with words.It's often used as a beginner project to learn about strings, variables and user input.\n",
        "   Here's a simple example of a Mad Libs program in Python:"
      ],
      "metadata": {
        "id": "f6PIAMr9RyCC"
      }
    },
    {
      "cell_type": "code",
      "source": [
        "print('Lets play a Mad Libs game!')\n",
        "\n",
        "adjective = input('Enter an adjective: ')\n",
        "noun = input('Enter a noun: ')\n",
        "verb = input('Enter a verb: ')\n",
        "place = input('Enter a place: ')\n",
        "\n",
        "story = f'Today I went to a {place}. I saw a {adjective} {noun} there. It suddenly started to {verb}.'\n",
        "print('\\n')\n",
        "print( story)"
      ],
      "metadata": {
        "colab": {
          "base_uri": "https://localhost:8080/"
        },
        "id": "VeIQhQdtUT6d",
        "outputId": "e2ca614a-1521-4b5d-ed15-0fa4faf830f8"
      },
      "execution_count": null,
      "outputs": [
        {
          "output_type": "stream",
          "name": "stdout",
          "text": [
            "Lets play a Mad Libs game!\n",
            "Enter an adjective: fluffy\n",
            "Enter a noun: penguin\n",
            "Enter a verb: dance\n",
            "Enter a place: jungle\n",
            "\n",
            "\n",
            "Today I went to a jungle. I saw a fluffy penguin there. It suddenly started to dance.\n"
          ]
        }
      ]
    }
  ]
}