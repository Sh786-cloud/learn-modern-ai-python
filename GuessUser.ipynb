{
  "nbformat": 4,
  "nbformat_minor": 0,
  "metadata": {
    "colab": {
      "provenance": []
    },
    "kernelspec": {
      "name": "python3",
      "display_name": "Python 3"
    },
    "language_info": {
      "name": "python"
    }
  },
  "cells": [
    {
      "cell_type": "code",
      "execution_count": null,
      "metadata": {
        "id": "DrdKBim677Eg"
      },
      "outputs": [],
      "source": []
    },
    {
      "cell_type": "markdown",
      "source": [
        "**Number Guessing Game (User Version)**\n",
        "\n",
        "     This is a simple python project for beginners where the user thinks of a number within a range and computer tries to guess the number. The user gives the feedback like \"Too High\", \"Too Low\" until the computer guesses correctly based on the feedback, typically using a binary strategy to guess efficiently.\n",
        "     Here's an example:"
      ],
      "metadata": {
        "id": "hjZr3BLP8EIH"
      }
    },
    {
      "cell_type": "code",
      "source": [
        "import random\n",
        "\n",
        "def Comp_guess (x):\n",
        "  low = 1\n",
        "  high = x\n",
        "  feedback = \"\"\n",
        "\n",
        "  while feedback != \"c\" :\n",
        "    if low != high :\n",
        "      guess = random.randint(low, high)\n",
        "    else :\n",
        "      guess = low\n",
        "    feedback = input(f\"Is {guess} is Low (L), High (H) or correct (C): \").lower()\n",
        "    if feedback == \"h\" :\n",
        "      high = guess - 1\n",
        "    elif feedback == \"l\" :\n",
        "      low = guess + 1\n",
        "\n",
        "  print(\"\\n\")\n",
        "  print(f\"Congrats, you guessed the number {guess} correctly!\")\n",
        "\n",
        "Comp_guess(10)"
      ],
      "metadata": {
        "id": "yqL20djS-Ylf",
        "colab": {
          "base_uri": "https://localhost:8080/"
        },
        "outputId": "4c36e171-dc51-462b-c780-fb3258766903"
      },
      "execution_count": 5,
      "outputs": [
        {
          "output_type": "stream",
          "name": "stdout",
          "text": [
            "Is 3 is Low (L), High (H) or correct (C): L\n",
            "Is 6 is Low (L), High (H) or correct (C): H\n",
            "Is 5 is Low (L), High (H) or correct (C): C\n",
            "\n",
            "\n",
            "Congrats, you guessed the number 5 correctly!\n"
          ]
        }
      ]
    },
    {
      "cell_type": "code",
      "source": [],
      "metadata": {
        "id": "WtlZmXHfJGLP"
      },
      "execution_count": null,
      "outputs": []
    }
  ]
}