{
  "nbformat": 4,
  "nbformat_minor": 0,
  "metadata": {
    "colab": {
      "provenance": []
    },
    "kernelspec": {
      "name": "python3",
      "display_name": "Python 3"
    },
    "language_info": {
      "name": "python"
    }
  },
  "cells": [
    {
      "cell_type": "code",
      "execution_count": null,
      "metadata": {
        "id": "9EDoSPI7sIZw"
      },
      "outputs": [],
      "source": []
    },
    {
      "cell_type": "markdown",
      "source": [
        "**Number Guessing Game (Computer version)**\n",
        "\n",
        "        This is a Python simple project where computer randomly selects a number for the user to guess. The program gives feedback like \"Too High\", \"Too Low\" until the user guesses correctly and ends with a success message.\n",
        "        Here's an example:"
      ],
      "metadata": {
        "id": "BwJMYDm9wmS0"
      }
    },
    {
      "cell_type": "code",
      "source": [
        "import random\n",
        "\n",
        "def User_guess(x):\n",
        "  number_to_guess = random.randint(1, x)\n",
        "  guess = 0\n",
        "  while guess != number_to_guess:\n",
        "    guess = int(input(f\"Guess a number between 1 and {x}: \"))\n",
        "    if guess < number_to_guess:\n",
        "      print(\"Sorry, guess again. its Too Low\")\n",
        "    elif guess > number_to_guess:\n",
        "      print(\"Sorry, guess again. its Too High\")\n",
        "  print(\"\\n\")\n",
        "  print(\"Congrats, you've guessed correctly!\")\n",
        "\n",
        "User_guess(10)"
      ],
      "metadata": {
        "colab": {
          "base_uri": "https://localhost:8080/"
        },
        "id": "CGhuNM7WyKA6",
        "outputId": "46b3d826-d688-476a-eaa4-ab00847be719"
      },
      "execution_count": 3,
      "outputs": [
        {
          "output_type": "stream",
          "name": "stdout",
          "text": [
            "Guess a number between 1 and 10: 6\n",
            "Sorry, guess again. its Too Low\n",
            "Guess a number between 1 and 10: 8\n",
            "Sorry, guess again. its Too High\n",
            "Guess a number between 1 and 10: 7\n",
            "\n",
            "\n",
            "Congrats, you've guessed correctly!\n"
          ]
        }
      ]
    }
  ]
}